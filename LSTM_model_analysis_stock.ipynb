{
  "nbformat": 4,
  "nbformat_minor": 0,
  "metadata": {
    "colab": {
      "name": "LSTM model analysis stock.ipynb",
      "provenance": [],
      "collapsed_sections": [],
      "toc_visible": true,
      "authorship_tag": "ABX9TyNgpFZJVvGHpMfBhIelJFqX",
      "include_colab_link": true
    },
    "kernelspec": {
      "display_name": "Python 3",
      "name": "python3"
    },
    "language_info": {
      "name": "python"
    }
  },
  "cells": [
    {
      "cell_type": "markdown",
      "metadata": {
        "id": "view-in-github",
        "colab_type": "text"
      },
      "source": [
        "<a href=\"https://colab.research.google.com/github/theofanisko/MasterThesis/blob/main/LSTM_model_analysis_stock.ipynb\" target=\"_parent\"><img src=\"https://colab.research.google.com/assets/colab-badge.svg\" alt=\"Open In Colab\"/></a>"
      ]
    },
    {
      "cell_type": "code",
      "metadata": {
        "id": "93_Uw4DjTI6I"
      },
      "source": [
        "import pandas as pd"
      ],
      "execution_count": 1,
      "outputs": []
    },
    {
      "cell_type": "markdown",
      "source": [
        "# Intro Data"
      ],
      "metadata": {
        "id": "oSfjDy8ttj-p"
      }
    },
    {
      "cell_type": "code",
      "metadata": {
        "colab": {
          "resources": {
            "http://localhost:8080/nbextensions/google.colab/files.js": {
              "data": "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",
              "ok": true,
              "headers": [
                [
                  "content-type",
                  "application/javascript"
                ]
              ],
              "status": 200,
              "status_text": ""
            }
          },
          "base_uri": "https://localhost:8080/",
          "height": 72
        },
        "id": "AiE3cLKdVoqS",
        "outputId": "f02a6fad-e89c-4b2b-ed55-f5b21c2d783b"
      },
      "source": [
        "from google.colab import files\n",
        "uploaded = files.upload()"
      ],
      "execution_count": 2,
      "outputs": [
        {
          "output_type": "display_data",
          "data": {
            "text/html": [
              "\n",
              "     <input type=\"file\" id=\"files-b40325d1-cf90-42aa-a314-0e3785e75227\" name=\"files[]\" multiple disabled\n",
              "        style=\"border:none\" />\n",
              "     <output id=\"result-b40325d1-cf90-42aa-a314-0e3785e75227\">\n",
              "      Upload widget is only available when the cell has been executed in the\n",
              "      current browser session. Please rerun this cell to enable.\n",
              "      </output>\n",
              "      <script src=\"/nbextensions/google.colab/files.js\"></script> "
            ],
            "text/plain": [
              "<IPython.core.display.HTML object>"
            ]
          },
          "metadata": {}
        },
        {
          "output_type": "stream",
          "name": "stdout",
          "text": [
            "Saving Total.xlsx to Total.xlsx\n"
          ]
        }
      ]
    },
    {
      "cell_type": "code",
      "metadata": {
        "id": "Kx7gJbA0Vye-"
      },
      "source": [
        ""
      ],
      "execution_count": null,
      "outputs": []
    },
    {
      "cell_type": "code",
      "metadata": {
        "colab": {
          "base_uri": "https://localhost:8080/",
          "height": 424
        },
        "id": "FkG4dnPxTT4Y",
        "outputId": "17b541f0-ce4f-4120-d93c-3bb4b54f7220"
      },
      "source": [
        "import io\n",
        "stock=pd.read_excel(io.BytesIO(uploaded['Total.xlsx']))\n",
        "stock"
      ],
      "execution_count": 3,
      "outputs": [
        {
          "output_type": "execute_result",
          "data": {
            "text/html": [
              "\n",
              "  <div id=\"df-7afd34f6-2747-4b6e-b9b6-e7a087e6bd50\">\n",
              "    <div class=\"colab-df-container\">\n",
              "      <div>\n",
              "<style scoped>\n",
              "    .dataframe tbody tr th:only-of-type {\n",
              "        vertical-align: middle;\n",
              "    }\n",
              "\n",
              "    .dataframe tbody tr th {\n",
              "        vertical-align: top;\n",
              "    }\n",
              "\n",
              "    .dataframe thead th {\n",
              "        text-align: right;\n",
              "    }\n",
              "</style>\n",
              "<table border=\"1\" class=\"dataframe\">\n",
              "  <thead>\n",
              "    <tr style=\"text-align: right;\">\n",
              "      <th></th>\n",
              "      <th>Date</th>\n",
              "      <th>THRr</th>\n",
              "      <th>HRMr</th>\n",
              "      <th>EYDr</th>\n",
              "      <th>EEEr</th>\n",
              "      <th>AUTr</th>\n",
              "      <th>ASCr</th>\n",
              "      <th>ALMr</th>\n",
              "      <th>ACBr</th>\n",
              "      <th>MYTr</th>\n",
              "      <th>FRLr</th>\n",
              "    </tr>\n",
              "  </thead>\n",
              "  <tbody>\n",
              "    <tr>\n",
              "      <th>0</th>\n",
              "      <td>Aug 06, 2015</td>\n",
              "      <td>1.40</td>\n",
              "      <td>1.67</td>\n",
              "      <td>6.29</td>\n",
              "      <td>19.9155</td>\n",
              "      <td>8.32</td>\n",
              "      <td>0.32</td>\n",
              "      <td>0.285</td>\n",
              "      <td>3.950</td>\n",
              "      <td>5.18</td>\n",
              "      <td>2.65</td>\n",
              "    </tr>\n",
              "    <tr>\n",
              "      <th>1</th>\n",
              "      <td>Aug 07, 2015</td>\n",
              "      <td>1.34</td>\n",
              "      <td>1.63</td>\n",
              "      <td>6.15</td>\n",
              "      <td>20.7159</td>\n",
              "      <td>8.30</td>\n",
              "      <td>0.31</td>\n",
              "      <td>0.270</td>\n",
              "      <td>6.550</td>\n",
              "      <td>5.15</td>\n",
              "      <td>2.50</td>\n",
              "    </tr>\n",
              "    <tr>\n",
              "      <th>2</th>\n",
              "      <td>Aug 10, 2015</td>\n",
              "      <td>1.39</td>\n",
              "      <td>1.64</td>\n",
              "      <td>5.83</td>\n",
              "      <td>19.7743</td>\n",
              "      <td>8.41</td>\n",
              "      <td>0.31</td>\n",
              "      <td>0.280</td>\n",
              "      <td>6.600</td>\n",
              "      <td>5.37</td>\n",
              "      <td>2.48</td>\n",
              "    </tr>\n",
              "    <tr>\n",
              "      <th>3</th>\n",
              "      <td>Aug 11, 2015</td>\n",
              "      <td>1.44</td>\n",
              "      <td>1.63</td>\n",
              "      <td>5.76</td>\n",
              "      <td>19.5483</td>\n",
              "      <td>8.27</td>\n",
              "      <td>0.31</td>\n",
              "      <td>0.280</td>\n",
              "      <td>7.250</td>\n",
              "      <td>5.39</td>\n",
              "      <td>2.51</td>\n",
              "    </tr>\n",
              "    <tr>\n",
              "      <th>4</th>\n",
              "      <td>Aug 12, 2015</td>\n",
              "      <td>1.30</td>\n",
              "      <td>1.55</td>\n",
              "      <td>5.88</td>\n",
              "      <td>19.0022</td>\n",
              "      <td>8.25</td>\n",
              "      <td>0.31</td>\n",
              "      <td>0.280</td>\n",
              "      <td>6.650</td>\n",
              "      <td>5.31</td>\n",
              "      <td>2.56</td>\n",
              "    </tr>\n",
              "    <tr>\n",
              "      <th>...</th>\n",
              "      <td>...</td>\n",
              "      <td>...</td>\n",
              "      <td>...</td>\n",
              "      <td>...</td>\n",
              "      <td>...</td>\n",
              "      <td>...</td>\n",
              "      <td>...</td>\n",
              "      <td>...</td>\n",
              "      <td>...</td>\n",
              "      <td>...</td>\n",
              "      <td>...</td>\n",
              "    </tr>\n",
              "    <tr>\n",
              "      <th>1469</th>\n",
              "      <td>Jul 08, 2021</td>\n",
              "      <td>7.00</td>\n",
              "      <td>9.15</td>\n",
              "      <td>7.91</td>\n",
              "      <td>30.7500</td>\n",
              "      <td>6.98</td>\n",
              "      <td>2.25</td>\n",
              "      <td>1.980</td>\n",
              "      <td>0.994</td>\n",
              "      <td>15.21</td>\n",
              "      <td>4.36</td>\n",
              "    </tr>\n",
              "    <tr>\n",
              "      <th>1470</th>\n",
              "      <td>Jul 09, 2021</td>\n",
              "      <td>6.89</td>\n",
              "      <td>9.16</td>\n",
              "      <td>7.88</td>\n",
              "      <td>30.1900</td>\n",
              "      <td>6.79</td>\n",
              "      <td>2.18</td>\n",
              "      <td>1.870</td>\n",
              "      <td>0.990</td>\n",
              "      <td>14.84</td>\n",
              "      <td>4.37</td>\n",
              "    </tr>\n",
              "    <tr>\n",
              "      <th>1471</th>\n",
              "      <td>Jul 12, 2021</td>\n",
              "      <td>6.99</td>\n",
              "      <td>9.41</td>\n",
              "      <td>8.09</td>\n",
              "      <td>30.0600</td>\n",
              "      <td>6.95</td>\n",
              "      <td>2.25</td>\n",
              "      <td>1.855</td>\n",
              "      <td>1.140</td>\n",
              "      <td>15.11</td>\n",
              "      <td>4.26</td>\n",
              "    </tr>\n",
              "    <tr>\n",
              "      <th>1472</th>\n",
              "      <td>Jul 13, 2021</td>\n",
              "      <td>6.86</td>\n",
              "      <td>9.36</td>\n",
              "      <td>7.83</td>\n",
              "      <td>30.0000</td>\n",
              "      <td>6.90</td>\n",
              "      <td>2.22</td>\n",
              "      <td>1.980</td>\n",
              "      <td>1.100</td>\n",
              "      <td>14.62</td>\n",
              "      <td>4.27</td>\n",
              "    </tr>\n",
              "    <tr>\n",
              "      <th>1473</th>\n",
              "      <td>Jul 14, 2021</td>\n",
              "      <td>6.90</td>\n",
              "      <td>9.25</td>\n",
              "      <td>7.80</td>\n",
              "      <td>30.4450</td>\n",
              "      <td>6.65</td>\n",
              "      <td>2.23</td>\n",
              "      <td>1.930</td>\n",
              "      <td>1.139</td>\n",
              "      <td>14.42</td>\n",
              "      <td>4.26</td>\n",
              "    </tr>\n",
              "  </tbody>\n",
              "</table>\n",
              "<p>1474 rows × 11 columns</p>\n",
              "</div>\n",
              "      <button class=\"colab-df-convert\" onclick=\"convertToInteractive('df-7afd34f6-2747-4b6e-b9b6-e7a087e6bd50')\"\n",
              "              title=\"Convert this dataframe to an interactive table.\"\n",
              "              style=\"display:none;\">\n",
              "        \n",
              "  <svg xmlns=\"http://www.w3.org/2000/svg\" height=\"24px\"viewBox=\"0 0 24 24\"\n",
              "       width=\"24px\">\n",
              "    <path d=\"M0 0h24v24H0V0z\" fill=\"none\"/>\n",
              "    <path d=\"M18.56 5.44l.94 2.06.94-2.06 2.06-.94-2.06-.94-.94-2.06-.94 2.06-2.06.94zm-11 1L8.5 8.5l.94-2.06 2.06-.94-2.06-.94L8.5 2.5l-.94 2.06-2.06.94zm10 10l.94 2.06.94-2.06 2.06-.94-2.06-.94-.94-2.06-.94 2.06-2.06.94z\"/><path d=\"M17.41 7.96l-1.37-1.37c-.4-.4-.92-.59-1.43-.59-.52 0-1.04.2-1.43.59L10.3 9.45l-7.72 7.72c-.78.78-.78 2.05 0 2.83L4 21.41c.39.39.9.59 1.41.59.51 0 1.02-.2 1.41-.59l7.78-7.78 2.81-2.81c.8-.78.8-2.07 0-2.86zM5.41 20L4 18.59l7.72-7.72 1.47 1.35L5.41 20z\"/>\n",
              "  </svg>\n",
              "      </button>\n",
              "      \n",
              "  <style>\n",
              "    .colab-df-container {\n",
              "      display:flex;\n",
              "      flex-wrap:wrap;\n",
              "      gap: 12px;\n",
              "    }\n",
              "\n",
              "    .colab-df-convert {\n",
              "      background-color: #E8F0FE;\n",
              "      border: none;\n",
              "      border-radius: 50%;\n",
              "      cursor: pointer;\n",
              "      display: none;\n",
              "      fill: #1967D2;\n",
              "      height: 32px;\n",
              "      padding: 0 0 0 0;\n",
              "      width: 32px;\n",
              "    }\n",
              "\n",
              "    .colab-df-convert:hover {\n",
              "      background-color: #E2EBFA;\n",
              "      box-shadow: 0px 1px 2px rgba(60, 64, 67, 0.3), 0px 1px 3px 1px rgba(60, 64, 67, 0.15);\n",
              "      fill: #174EA6;\n",
              "    }\n",
              "\n",
              "    [theme=dark] .colab-df-convert {\n",
              "      background-color: #3B4455;\n",
              "      fill: #D2E3FC;\n",
              "    }\n",
              "\n",
              "    [theme=dark] .colab-df-convert:hover {\n",
              "      background-color: #434B5C;\n",
              "      box-shadow: 0px 1px 3px 1px rgba(0, 0, 0, 0.15);\n",
              "      filter: drop-shadow(0px 1px 2px rgba(0, 0, 0, 0.3));\n",
              "      fill: #FFFFFF;\n",
              "    }\n",
              "  </style>\n",
              "\n",
              "      <script>\n",
              "        const buttonEl =\n",
              "          document.querySelector('#df-7afd34f6-2747-4b6e-b9b6-e7a087e6bd50 button.colab-df-convert');\n",
              "        buttonEl.style.display =\n",
              "          google.colab.kernel.accessAllowed ? 'block' : 'none';\n",
              "\n",
              "        async function convertToInteractive(key) {\n",
              "          const element = document.querySelector('#df-7afd34f6-2747-4b6e-b9b6-e7a087e6bd50');\n",
              "          const dataTable =\n",
              "            await google.colab.kernel.invokeFunction('convertToInteractive',\n",
              "                                                     [key], {});\n",
              "          if (!dataTable) return;\n",
              "\n",
              "          const docLinkHtml = 'Like what you see? Visit the ' +\n",
              "            '<a target=\"_blank\" href=https://colab.research.google.com/notebooks/data_table.ipynb>data table notebook</a>'\n",
              "            + ' to learn more about interactive tables.';\n",
              "          element.innerHTML = '';\n",
              "          dataTable['output_type'] = 'display_data';\n",
              "          await google.colab.output.renderOutput(dataTable, element);\n",
              "          const docLink = document.createElement('div');\n",
              "          docLink.innerHTML = docLinkHtml;\n",
              "          element.appendChild(docLink);\n",
              "        }\n",
              "      </script>\n",
              "    </div>\n",
              "  </div>\n",
              "  "
            ],
            "text/plain": [
              "              Date  THRr  HRMr  EYDr     EEEr  ...  ASCr   ALMr   ACBr   MYTr  FRLr\n",
              "0     Aug 06, 2015  1.40  1.67  6.29  19.9155  ...  0.32  0.285  3.950   5.18  2.65\n",
              "1     Aug 07, 2015  1.34  1.63  6.15  20.7159  ...  0.31  0.270  6.550   5.15  2.50\n",
              "2     Aug 10, 2015  1.39  1.64  5.83  19.7743  ...  0.31  0.280  6.600   5.37  2.48\n",
              "3     Aug 11, 2015  1.44  1.63  5.76  19.5483  ...  0.31  0.280  7.250   5.39  2.51\n",
              "4     Aug 12, 2015  1.30  1.55  5.88  19.0022  ...  0.31  0.280  6.650   5.31  2.56\n",
              "...            ...   ...   ...   ...      ...  ...   ...    ...    ...    ...   ...\n",
              "1469  Jul 08, 2021  7.00  9.15  7.91  30.7500  ...  2.25  1.980  0.994  15.21  4.36\n",
              "1470  Jul 09, 2021  6.89  9.16  7.88  30.1900  ...  2.18  1.870  0.990  14.84  4.37\n",
              "1471  Jul 12, 2021  6.99  9.41  8.09  30.0600  ...  2.25  1.855  1.140  15.11  4.26\n",
              "1472  Jul 13, 2021  6.86  9.36  7.83  30.0000  ...  2.22  1.980  1.100  14.62  4.27\n",
              "1473  Jul 14, 2021  6.90  9.25  7.80  30.4450  ...  2.23  1.930  1.139  14.42  4.26\n",
              "\n",
              "[1474 rows x 11 columns]"
            ]
          },
          "metadata": {},
          "execution_count": 3
        }
      ]
    },
    {
      "cell_type": "code",
      "metadata": {
        "colab": {
          "base_uri": "https://localhost:8080/",
          "height": 344
        },
        "id": "nI8bBI7sZc3T",
        "outputId": "28027dca-eb5f-4d19-e391-db53a07a116d"
      },
      "source": [
        "stock.describe()"
      ],
      "execution_count": 4,
      "outputs": [
        {
          "output_type": "execute_result",
          "data": {
            "text/html": [
              "\n",
              "  <div id=\"df-6476f814-d3d2-495f-a411-56119422eea2\">\n",
              "    <div class=\"colab-df-container\">\n",
              "      <div>\n",
              "<style scoped>\n",
              "    .dataframe tbody tr th:only-of-type {\n",
              "        vertical-align: middle;\n",
              "    }\n",
              "\n",
              "    .dataframe tbody tr th {\n",
              "        vertical-align: top;\n",
              "    }\n",
              "\n",
              "    .dataframe thead th {\n",
              "        text-align: right;\n",
              "    }\n",
              "</style>\n",
              "<table border=\"1\" class=\"dataframe\">\n",
              "  <thead>\n",
              "    <tr style=\"text-align: right;\">\n",
              "      <th></th>\n",
              "      <th>THRr</th>\n",
              "      <th>HRMr</th>\n",
              "      <th>EYDr</th>\n",
              "      <th>EEEr</th>\n",
              "      <th>AUTr</th>\n",
              "      <th>ASCr</th>\n",
              "      <th>ALMr</th>\n",
              "      <th>ACBr</th>\n",
              "      <th>MYTr</th>\n",
              "      <th>FRLr</th>\n",
              "    </tr>\n",
              "  </thead>\n",
              "  <tbody>\n",
              "    <tr>\n",
              "      <th>count</th>\n",
              "      <td>1474.000000</td>\n",
              "      <td>1474.000000</td>\n",
              "      <td>1474.000000</td>\n",
              "      <td>1474.000000</td>\n",
              "      <td>1474.000000</td>\n",
              "      <td>1474.000000</td>\n",
              "      <td>1474.000000</td>\n",
              "      <td>1474.000000</td>\n",
              "      <td>1474.000000</td>\n",
              "      <td>1474.000000</td>\n",
              "    </tr>\n",
              "    <tr>\n",
              "      <th>mean</th>\n",
              "      <td>2.339204</td>\n",
              "      <td>4.688005</td>\n",
              "      <td>6.126771</td>\n",
              "      <td>24.383282</td>\n",
              "      <td>7.459830</td>\n",
              "      <td>1.651926</td>\n",
              "      <td>0.597783</td>\n",
              "      <td>1.731373</td>\n",
              "      <td>8.061472</td>\n",
              "      <td>4.471018</td>\n",
              "    </tr>\n",
              "    <tr>\n",
              "      <th>std</th>\n",
              "      <td>1.003729</td>\n",
              "      <td>2.281259</td>\n",
              "      <td>1.043338</td>\n",
              "      <td>4.578815</td>\n",
              "      <td>2.930922</td>\n",
              "      <td>0.937234</td>\n",
              "      <td>0.456567</td>\n",
              "      <td>1.126933</td>\n",
              "      <td>2.832323</td>\n",
              "      <td>1.052621</td>\n",
              "    </tr>\n",
              "    <tr>\n",
              "      <th>min</th>\n",
              "      <td>1.200000</td>\n",
              "      <td>1.090000</td>\n",
              "      <td>3.690000</td>\n",
              "      <td>15.489900</td>\n",
              "      <td>3.200000</td>\n",
              "      <td>0.250000</td>\n",
              "      <td>0.134000</td>\n",
              "      <td>0.420000</td>\n",
              "      <td>2.840000</td>\n",
              "      <td>1.980000</td>\n",
              "    </tr>\n",
              "    <tr>\n",
              "      <th>25%</th>\n",
              "      <td>1.770000</td>\n",
              "      <td>2.270000</td>\n",
              "      <td>5.390000</td>\n",
              "      <td>20.153275</td>\n",
              "      <td>5.592500</td>\n",
              "      <td>0.661250</td>\n",
              "      <td>0.252000</td>\n",
              "      <td>1.160000</td>\n",
              "      <td>6.182500</td>\n",
              "      <td>3.792500</td>\n",
              "    </tr>\n",
              "    <tr>\n",
              "      <th>50%</th>\n",
              "      <td>2.140000</td>\n",
              "      <td>4.920000</td>\n",
              "      <td>5.900000</td>\n",
              "      <td>25.200000</td>\n",
              "      <td>6.120000</td>\n",
              "      <td>1.930000</td>\n",
              "      <td>0.389000</td>\n",
              "      <td>1.670000</td>\n",
              "      <td>8.390000</td>\n",
              "      <td>4.430000</td>\n",
              "    </tr>\n",
              "    <tr>\n",
              "      <th>75%</th>\n",
              "      <td>2.560000</td>\n",
              "      <td>6.190000</td>\n",
              "      <td>6.817500</td>\n",
              "      <td>27.897500</td>\n",
              "      <td>10.000000</td>\n",
              "      <td>2.400000</td>\n",
              "      <td>0.839500</td>\n",
              "      <td>1.900750</td>\n",
              "      <td>9.677500</td>\n",
              "      <td>5.437500</td>\n",
              "    </tr>\n",
              "    <tr>\n",
              "      <th>max</th>\n",
              "      <td>7.000000</td>\n",
              "      <td>10.500000</td>\n",
              "      <td>9.200000</td>\n",
              "      <td>34.630000</td>\n",
              "      <td>17.000000</td>\n",
              "      <td>3.240000</td>\n",
              "      <td>2.130000</td>\n",
              "      <td>8.400000</td>\n",
              "      <td>15.990000</td>\n",
              "      <td>6.200000</td>\n",
              "    </tr>\n",
              "  </tbody>\n",
              "</table>\n",
              "</div>\n",
              "      <button class=\"colab-df-convert\" onclick=\"convertToInteractive('df-6476f814-d3d2-495f-a411-56119422eea2')\"\n",
              "              title=\"Convert this dataframe to an interactive table.\"\n",
              "              style=\"display:none;\">\n",
              "        \n",
              "  <svg xmlns=\"http://www.w3.org/2000/svg\" height=\"24px\"viewBox=\"0 0 24 24\"\n",
              "       width=\"24px\">\n",
              "    <path d=\"M0 0h24v24H0V0z\" fill=\"none\"/>\n",
              "    <path d=\"M18.56 5.44l.94 2.06.94-2.06 2.06-.94-2.06-.94-.94-2.06-.94 2.06-2.06.94zm-11 1L8.5 8.5l.94-2.06 2.06-.94-2.06-.94L8.5 2.5l-.94 2.06-2.06.94zm10 10l.94 2.06.94-2.06 2.06-.94-2.06-.94-.94-2.06-.94 2.06-2.06.94z\"/><path d=\"M17.41 7.96l-1.37-1.37c-.4-.4-.92-.59-1.43-.59-.52 0-1.04.2-1.43.59L10.3 9.45l-7.72 7.72c-.78.78-.78 2.05 0 2.83L4 21.41c.39.39.9.59 1.41.59.51 0 1.02-.2 1.41-.59l7.78-7.78 2.81-2.81c.8-.78.8-2.07 0-2.86zM5.41 20L4 18.59l7.72-7.72 1.47 1.35L5.41 20z\"/>\n",
              "  </svg>\n",
              "      </button>\n",
              "      \n",
              "  <style>\n",
              "    .colab-df-container {\n",
              "      display:flex;\n",
              "      flex-wrap:wrap;\n",
              "      gap: 12px;\n",
              "    }\n",
              "\n",
              "    .colab-df-convert {\n",
              "      background-color: #E8F0FE;\n",
              "      border: none;\n",
              "      border-radius: 50%;\n",
              "      cursor: pointer;\n",
              "      display: none;\n",
              "      fill: #1967D2;\n",
              "      height: 32px;\n",
              "      padding: 0 0 0 0;\n",
              "      width: 32px;\n",
              "    }\n",
              "\n",
              "    .colab-df-convert:hover {\n",
              "      background-color: #E2EBFA;\n",
              "      box-shadow: 0px 1px 2px rgba(60, 64, 67, 0.3), 0px 1px 3px 1px rgba(60, 64, 67, 0.15);\n",
              "      fill: #174EA6;\n",
              "    }\n",
              "\n",
              "    [theme=dark] .colab-df-convert {\n",
              "      background-color: #3B4455;\n",
              "      fill: #D2E3FC;\n",
              "    }\n",
              "\n",
              "    [theme=dark] .colab-df-convert:hover {\n",
              "      background-color: #434B5C;\n",
              "      box-shadow: 0px 1px 3px 1px rgba(0, 0, 0, 0.15);\n",
              "      filter: drop-shadow(0px 1px 2px rgba(0, 0, 0, 0.3));\n",
              "      fill: #FFFFFF;\n",
              "    }\n",
              "  </style>\n",
              "\n",
              "      <script>\n",
              "        const buttonEl =\n",
              "          document.querySelector('#df-6476f814-d3d2-495f-a411-56119422eea2 button.colab-df-convert');\n",
              "        buttonEl.style.display =\n",
              "          google.colab.kernel.accessAllowed ? 'block' : 'none';\n",
              "\n",
              "        async function convertToInteractive(key) {\n",
              "          const element = document.querySelector('#df-6476f814-d3d2-495f-a411-56119422eea2');\n",
              "          const dataTable =\n",
              "            await google.colab.kernel.invokeFunction('convertToInteractive',\n",
              "                                                     [key], {});\n",
              "          if (!dataTable) return;\n",
              "\n",
              "          const docLinkHtml = 'Like what you see? Visit the ' +\n",
              "            '<a target=\"_blank\" href=https://colab.research.google.com/notebooks/data_table.ipynb>data table notebook</a>'\n",
              "            + ' to learn more about interactive tables.';\n",
              "          element.innerHTML = '';\n",
              "          dataTable['output_type'] = 'display_data';\n",
              "          await google.colab.output.renderOutput(dataTable, element);\n",
              "          const docLink = document.createElement('div');\n",
              "          docLink.innerHTML = docLinkHtml;\n",
              "          element.appendChild(docLink);\n",
              "        }\n",
              "      </script>\n",
              "    </div>\n",
              "  </div>\n",
              "  "
            ],
            "text/plain": [
              "              THRr         HRMr  ...         MYTr         FRLr\n",
              "count  1474.000000  1474.000000  ...  1474.000000  1474.000000\n",
              "mean      2.339204     4.688005  ...     8.061472     4.471018\n",
              "std       1.003729     2.281259  ...     2.832323     1.052621\n",
              "min       1.200000     1.090000  ...     2.840000     1.980000\n",
              "25%       1.770000     2.270000  ...     6.182500     3.792500\n",
              "50%       2.140000     4.920000  ...     8.390000     4.430000\n",
              "75%       2.560000     6.190000  ...     9.677500     5.437500\n",
              "max       7.000000    10.500000  ...    15.990000     6.200000\n",
              "\n",
              "[8 rows x 10 columns]"
            ]
          },
          "metadata": {},
          "execution_count": 4
        }
      ]
    },
    {
      "cell_type": "code",
      "metadata": {
        "colab": {
          "base_uri": "https://localhost:8080/"
        },
        "id": "4fuiXB2CYrEJ",
        "outputId": "960ac4ba-5ced-4b90-a15c-fd49ab76074b"
      },
      "source": [
        "\n",
        "stock.isnull().sum()"
      ],
      "execution_count": 5,
      "outputs": [
        {
          "output_type": "execute_result",
          "data": {
            "text/plain": [
              "Date    0\n",
              "THRr    0\n",
              "HRMr    0\n",
              "EYDr    0\n",
              "EEEr    0\n",
              "AUTr    0\n",
              "ASCr    0\n",
              "ALMr    0\n",
              "ACBr    0\n",
              "MYTr    0\n",
              "FRLr    0\n",
              "dtype: int64"
            ]
          },
          "metadata": {},
          "execution_count": 5
        }
      ]
    },
    {
      "cell_type": "code",
      "metadata": {
        "colab": {
          "base_uri": "https://localhost:8080/"
        },
        "id": "MGkk5fzGTUi0",
        "outputId": "ef7d51f6-eb4d-40e4-87da-a26a95a68182"
      },
      "source": [
        "\n",
        "close_price=stock[\"AUTr\"]\n",
        "close_price.index = stock[\"Date\"]\n",
        "close_price.head()\n"
      ],
      "execution_count": 7,
      "outputs": [
        {
          "output_type": "execute_result",
          "data": {
            "text/plain": [
              "Date\n",
              "Aug 06, 2015    8.32\n",
              "Aug 07, 2015    8.30\n",
              "Aug 10, 2015    8.41\n",
              "Aug 11, 2015    8.27\n",
              "Aug 12, 2015    8.25\n",
              "Name: AUTr, dtype: float64"
            ]
          },
          "metadata": {},
          "execution_count": 7
        }
      ]
    },
    {
      "cell_type": "code",
      "metadata": {
        "colab": {
          "base_uri": "https://localhost:8080/",
          "height": 310
        },
        "id": "ru49ymdEWWmE",
        "outputId": "bb02fa42-f05c-4ae7-a510-b2c9244c8acb"
      },
      "source": [
        "import matplotlib.pyplot as plt\n",
        "plt.style.use ('ggplot')\n",
        "close_price.plot(subplots=True, title='Historical open price of AUTr stock',ylabel='Open price')\n",
        "plt.savefig('Historical Open price of FRLr the stock.png')"
      ],
      "execution_count": 8,
      "outputs": [
        {
          "output_type": "display_data",
          "data": {
            "image/png": "[encoded data removed]",
            "text/plain": [
              "<Figure size 432x288 with 1 Axes>"
            ]
          },
          "metadata": {}
        }
      ]
    },
    {
      "cell_type": "markdown",
      "source": [
        "#Multi step model"
      ],
      "metadata": {
        "id": "qGpwn8wquxPv"
      }
    },
    {
      "cell_type": "code",
      "metadata": {
        "id": "xeoip7bIWYch"
      },
      "source": [
        "import tensorflow as tf\n",
        "from keras import optimizers\n",
        "\n",
        "import sys\n",
        "assert sys.version_info >= (3,5)\n",
        "\n",
        "import sklearn\n",
        "assert sklearn.__version__ >= \"0.20\"\n",
        "\n",
        "# Common imports\n",
        "import numpy as np\n",
        "import os\n",
        "import pandas as pd\n",
        "\n",
        "\n",
        "# min-maxScaler\n",
        "from sklearn.preprocessing import MinMaxScaler\n",
        "\n",
        "# plot\n",
        "%matplotlib inline\n",
        "import matplotlib as mpl\n",
        "import matplotlib.pyplot as plt\n",
        "\n",
        "from math import sqrt"
      ],
      "execution_count": 9,
      "outputs": []
    },
    {
      "cell_type": "markdown",
      "source": [
        "# Transform Data"
      ],
      "metadata": {
        "id": "bPLdFIBpuVmE"
      }
    },
    {
      "cell_type": "code",
      "metadata": {
        "id": "IJzgZwNJXqz9"
      },
      "source": [
        "close_price = stock.AUTr.values\n",
        "close_price = np.reshape(close_price,(-1,1))\n",
        "\n",
        "scaler = MinMaxScaler()\n",
        "data_normalised = scaler.fit_transform(close_price)\n"
      ],
      "execution_count": 12,
      "outputs": []
    },
    {
      "cell_type": "markdown",
      "source": [
        "#Split Data (Train 80% - Validate 10% - Test 10%)"
      ],
      "metadata": {
        "id": "UtgDkRkjubF2"
      }
    },
    {
      "cell_type": "code",
      "metadata": {
        "id": "LnU2ic-gXyVu"
      },
      "source": [
        "train_size = int(len(data_normalised) * 0.80)\n",
        "half_rest = int((len(data_normalised) - train_size)/2)\n",
        "\n",
        "train_set = data_normalised[0:train_size,:]\n",
        "val_set = data_normalised[train_size:train_size+half_rest,:]\n",
        "test_set = data_normalised[train_size+half_rest:len(data_normalised),:]"
      ],
      "execution_count": 13,
      "outputs": []
    },
    {
      "cell_type": "markdown",
      "source": [
        "#Creating sliding windows"
      ],
      "metadata": {
        "id": "HmiXpg4NvQ_K"
      }
    },
    {
      "cell_type": "code",
      "metadata": {
        "id": "jpUIPoz4X0r9"
      },
      "source": [
        "def createWindows(dataset, window):\n",
        "    X_train = []\n",
        "    Y_train = []\n",
        "    \n",
        "    for i in range(len(dataset)-window-1):\n",
        "        X_train.append(dataset[i:(i+window),0])\n",
        "        Y_train.append(dataset[i+window,0])\n",
        "    return np.array(X_train),np.array(Y_train)"
      ],
      "execution_count": 15,
      "outputs": []
    },
    {
      "cell_type": "code",
      "metadata": {
        "id": "UmDK7qGIX2d1"
      },
      "source": [
        "X_train, Y_train = createWindows(train_set,20)\n",
        "X_train = np.reshape(X_train, (X_train.shape[0], 1, X_train.shape[1]))"
      ],
      "execution_count": 16,
      "outputs": []
    },
    {
      "cell_type": "code",
      "metadata": {
        "id": "w0Q3qpbtX4r9"
      },
      "source": [
        "\n",
        "X_val, Y_val = createWindows(val_set,20)\n",
        "X_val = np.reshape(X_val, (X_val.shape[0], 1, X_val.shape[1]))"
      ],
      "execution_count": 17,
      "outputs": []
    },
    {
      "cell_type": "code",
      "metadata": {
        "id": "2zaxC1k5X6F_"
      },
      "source": [
        "X_test, Y_test = createWindows(test_set,20)\n",
        "X_test = np.reshape(X_test, (X_test.shape[0], 1, X_test.shape[1]))"
      ],
      "execution_count": 18,
      "outputs": []
    },
    {
      "cell_type": "markdown",
      "source": [
        "#Combination of X_train and Y_train to tensors and shuffle them, while choosing the batch size"
      ],
      "metadata": {
        "id": "bd3hFogqvbzH"
      }
    },
    {
      "cell_type": "code",
      "metadata": {
        "id": "zpNIaaLFX7sf"
      },
      "source": [
        "BATCH_SIZE = 60\n",
        "BUFFER_SIZE = 10000\n",
        "\n",
        "train_univariate = tf.data.Dataset.from_tensor_slices((X_train, Y_train))\n",
        "train_univariate = train_univariate.cache().shuffle(BUFFER_SIZE).batch(BATCH_SIZE).repeat()\n",
        "\n",
        "val_univariate = tf.data.Dataset.from_tensor_slices((X_val, Y_val))\n",
        "val_univariate = val_univariate.batch(BATCH_SIZE).repeat()"
      ],
      "execution_count": 19,
      "outputs": []
    },
    {
      "cell_type": "code",
      "metadata": {
        "id": "2pGuYf9cX_Ko"
      },
      "source": [
        "opt = tf.keras.optimizers.Adam(learning_rate=0.001)"
      ],
      "execution_count": 20,
      "outputs": []
    },
    {
      "cell_type": "markdown",
      "source": [
        "#Building the Model"
      ],
      "metadata": {
        "id": "EHZkFd-PvzIy"
      }
    },
    {
      "cell_type": "code",
      "metadata": {
        "id": "ECqulM7eYBd3"
      },
      "source": [
        "model = tf.keras.models.Sequential([\n",
        "    tf.keras.layers.LSTM(200, return_sequences=True, input_shape= X_train.shape[-2:]),\n",
        "    tf.keras.layers.Dropout(0.2),\n",
        "    tf.keras.layers.LSTM(100),\n",
        "    tf.keras.layers.Dropout(0.2),\n",
        "    tf.keras.layers.Activation('sigmoid'),\n",
        "    tf.keras.layers.Dense(1)\n",
        "    ])\n",
        "\n",
        "\n",
        "model.compile(loss=\"mse\", optimizer=opt)"
      ],
      "execution_count": 21,
      "outputs": []
    },
    {
      "cell_type": "code",
      "metadata": {
        "colab": {
          "base_uri": "https://localhost:8080/"
        },
        "id": "mRx4rcgVYDkP",
        "outputId": "f1440bf4-e248-4686-a14c-67aad7523e6c"
      },
      "source": [
        "import keras.backend as K\n",
        "print(K.eval(model.optimizer.lr))"
      ],
      "execution_count": 22,
      "outputs": [
        {
          "output_type": "stream",
          "name": "stdout",
          "text": [
            "0.001\n"
          ]
        }
      ]
    },
    {
      "cell_type": "markdown",
      "source": [
        "# Model Summary and the model's tree scrature"
      ],
      "metadata": {
        "id": "AKK2eh3HwkhF"
      }
    },
    {
      "cell_type": "code",
      "metadata": {
        "colab": {
          "base_uri": "https://localhost:8080/"
        },
        "id": "Bt5SoT-pYFDv",
        "outputId": "847f92a8-a664-45c7-89e8-ad2addc290c7"
      },
      "source": [
        "model.summary()"
      ],
      "execution_count": 23,
      "outputs": [
        {
          "output_type": "stream",
          "name": "stdout",
          "text": [
            "Model: \"sequential\"\n",
            "_________________________________________________________________\n",
            " Layer (type)                Output Shape              Param #   \n",
            "=================================================================\n",
            " lstm (LSTM)                 (None, 1, 200)            176800    \n",
            "                                                                 \n",
            " dropout (Dropout)           (None, 1, 200)            0         \n",
            "                                                                 \n",
            " lstm_1 (LSTM)               (None, 100)               120400    \n",
            "                                                                 \n",
            " dropout_1 (Dropout)         (None, 100)               0         \n",
            "                                                                 \n",
            " activation (Activation)     (None, 100)               0         \n",
            "                                                                 \n",
            " dense (Dense)               (None, 1)                 101       \n",
            "                                                                 \n",
            "=================================================================\n",
            "Total params: 297,301\n",
            "Trainable params: 297,301\n",
            "Non-trainable params: 0\n",
            "_________________________________________________________________\n"
          ]
        }
      ]
    },
    {
      "cell_type": "code",
      "metadata": {
        "id": "N1wfTOegYGum"
      },
      "source": [
        "#tf.keras.utils.plot_model(model)"
      ],
      "execution_count": 24,
      "outputs": []
    },
    {
      "cell_type": "code",
      "metadata": {
        "colab": {
          "base_uri": "https://localhost:8080/"
        },
        "id": "Nz0_gZm2YI-D",
        "outputId": "3863329e-048c-4fc3-e398-5b6790bb0b14"
      },
      "source": [
        "lstm = model.fit(train_univariate, epochs=7,steps_per_epoch=200,validation_data=val_univariate,validation_steps=50)"
      ],
      "execution_count": 25,
      "outputs": [
        {
          "output_type": "stream",
          "name": "stdout",
          "text": [
            "Epoch 1/7\n",
            "200/200 [==============================] - 8s 12ms/step - loss: 0.0086 - val_loss: 9.2569e-04\n",
            "Epoch 2/7\n",
            "200/200 [==============================] - 2s 8ms/step - loss: 0.0025 - val_loss: 4.7071e-04\n",
            "Epoch 3/7\n",
            "200/200 [==============================] - 2s 8ms/step - loss: 0.0022 - val_loss: 5.3563e-04\n",
            "Epoch 4/7\n",
            "200/200 [==============================] - 2s 8ms/step - loss: 0.0020 - val_loss: 7.6134e-04\n",
            "Epoch 5/7\n",
            "200/200 [==============================] - 2s 8ms/step - loss: 0.0018 - val_loss: 0.0016\n",
            "Epoch 6/7\n",
            "200/200 [==============================] - 2s 8ms/step - loss: 0.0018 - val_loss: 8.1322e-04\n",
            "Epoch 7/7\n",
            "200/200 [==============================] - 2s 8ms/step - loss: 0.0016 - val_loss: 0.0013\n"
          ]
        }
      ]
    },
    {
      "cell_type": "code",
      "metadata": {
        "id": "HlJYSzHZYLPb"
      },
      "source": [
        "def plot(timeseries, real, prediction):\n",
        "    plt.plot(timeseries.flatten(), \".-\")\n",
        "    time_steps = timeseries[0].shape[0]\n",
        "    if real is not None:\n",
        "        plt.plot(time_steps, real,\"bx\", markersize=10)\n",
        "    if prediction is not None:\n",
        "        plt.plot (time_steps, prediction,'go')\n",
        "    return plt"
      ],
      "execution_count": 26,
      "outputs": []
    },
    {
      "cell_type": "markdown",
      "source": [
        "#Model evaluate on validation set"
      ],
      "metadata": {
        "id": "o6KCgpLexA8N"
      }
    },
    {
      "cell_type": "code",
      "metadata": {
        "id": "kOCxXj9kYOod"
      },
      "source": [
        "y_true_val= Y_val\n",
        "y_true_val= scaler.inverse_transform(y_true_val.reshape(-1, 1)).reshape(-1 ,)"
      ],
      "execution_count": 28,
      "outputs": []
    },
    {
      "cell_type": "code",
      "metadata": {
        "id": "Rnj9npufYQq7"
      },
      "source": [
        "y_pred_val = model.predict(X_val).reshape(-1, )\n",
        "y_pred_val = scaler.inverse_transform(y_pred_val.reshape(-1, 1)).reshape(-1 ,)"
      ],
      "execution_count": 29,
      "outputs": []
    },
    {
      "cell_type": "code",
      "metadata": {
        "colab": {
          "base_uri": "https://localhost:8080/"
        },
        "id": "erdbh6iOYSGt",
        "outputId": "86ee32e1-3ce6-45db-a655-3f1bd74689e4"
      },
      "source": [
        "from sklearn.metrics import mean_absolute_error\n",
        "mean_absolute_error(y_true_val, y_pred_val)"
      ],
      "execution_count": 30,
      "outputs": [
        {
          "output_type": "execute_result",
          "data": {
            "text/plain": [
              "0.46372871414063477"
            ]
          },
          "metadata": {},
          "execution_count": 30
        }
      ]
    },
    {
      "cell_type": "code",
      "metadata": {
        "colab": {
          "base_uri": "https://localhost:8080/"
        },
        "id": "gabzMw8iYTU7",
        "outputId": "7e5fcb72-fc77-4b1d-8254-492df7531c20"
      },
      "source": [
        "from sklearn.metrics import mean_squared_error\n",
        "mean_squared_error(y_true_val, y_pred_val)"
      ],
      "execution_count": 31,
      "outputs": [
        {
          "output_type": "execute_result",
          "data": {
            "text/plain": [
              "0.24772842644928372"
            ]
          },
          "metadata": {},
          "execution_count": 31
        }
      ]
    },
    {
      "cell_type": "code",
      "metadata": {
        "colab": {
          "base_uri": "https://localhost:8080/"
        },
        "id": "mrWEg1GBYUwx",
        "outputId": "0ddff3cc-0a05-4e75-a80f-8f8683c63580"
      },
      "source": [
        "# root mean square error\n",
        "rms = sqrt(mean_squared_error(y_true_val, y_pred_val))\n",
        "rms"
      ],
      "execution_count": 32,
      "outputs": [
        {
          "output_type": "execute_result",
          "data": {
            "text/plain": [
              "0.4977232428260546"
            ]
          },
          "metadata": {},
          "execution_count": 32
        }
      ]
    },
    {
      "cell_type": "code",
      "metadata": {
        "colab": {
          "base_uri": "https://localhost:8080/",
          "height": 298
        },
        "id": "FjdVh4_xYWJk",
        "outputId": "a10f9050-f549-4a10-9391-d19c3667f14e"
      },
      "source": [
        "plt.plot(y_true_val, color = 'blue', label = 'Actual Stock Price')\n",
        "plt.plot(y_pred_val, color = 'red', label = 'Predicted Stock Price')\n",
        "plt.title('AUTr open stock price prediction ')\n",
        "plt.xlabel('Time')\n",
        "plt.ylabel('Open Price')\n",
        "plt.legend()\n",
        "plt.show()"
      ],
      "execution_count": 33,
      "outputs": [
        {
          "output_type": "display_data",
          "data": {
            "image/png": "[encoded data removed]",
            "text/plain": [
              "<Figure size 432x288 with 1 Axes>"
            ]
          },
          "metadata": {
            "needs_background": "light"
          }
        }
      ]
    },
    {
      "cell_type": "markdown",
      "source": [
        "#Model evaluate on the test set"
      ],
      "metadata": {
        "id": "Iap0gzYDx-QC"
      }
    },
    {
      "cell_type": "code",
      "metadata": {
        "colab": {
          "base_uri": "https://localhost:8080/"
        },
        "id": "YxygXuEiYXnJ",
        "outputId": "ddfcc998-bac1-42da-dd9c-f56af2378033"
      },
      "source": [
        "y_true_test = Y_test\n",
        "y_true_test = scaler.inverse_transform(Y_test.reshape(-1, 1)).reshape(-1 ,)\n",
        "y_pred_test = model.predict(X_test).reshape(-1, )\n",
        "y_pred_test = scaler.inverse_transform(y_pred_test.reshape(-1, 1)).reshape(-1 ,)\n",
        "\n",
        "from sklearn.metrics import mean_absolute_error\n",
        "mean_absolute_error(y_true_test, y_pred_test)"
      ],
      "execution_count": 34,
      "outputs": [
        {
          "output_type": "execute_result",
          "data": {
            "text/plain": [
              "0.10938089265598089"
            ]
          },
          "metadata": {},
          "execution_count": 34
        }
      ]
    },
    {
      "cell_type": "code",
      "metadata": {
        "colab": {
          "base_uri": "https://localhost:8080/"
        },
        "id": "ZMghOPCDsffx",
        "outputId": "03fc2efa-5ddf-4adb-995f-0bdae8ceed2e"
      },
      "source": [
        "from sklearn.metrics import mean_squared_error\n",
        "mean_squared_error(y_true_test, y_pred_test)"
      ],
      "execution_count": 35,
      "outputs": [
        {
          "output_type": "execute_result",
          "data": {
            "text/plain": [
              "0.01937359952485644"
            ]
          },
          "metadata": {},
          "execution_count": 35
        }
      ]
    },
    {
      "cell_type": "code",
      "metadata": {
        "colab": {
          "base_uri": "https://localhost:8080/"
        },
        "id": "9F8DWe6ksfb7",
        "outputId": "305b50ac-b5a1-4d54-eead-4fe8e389e6f6"
      },
      "source": [
        "# root mean square error\n",
        "rms = sqrt(mean_squared_error(y_true_test, y_pred_test))\n",
        "rms\n"
      ],
      "execution_count": 36,
      "outputs": [
        {
          "output_type": "execute_result",
          "data": {
            "text/plain": [
              "0.13918907832461727"
            ]
          },
          "metadata": {},
          "execution_count": 36
        }
      ]
    },
    {
      "cell_type": "code",
      "metadata": {
        "colab": {
          "base_uri": "https://localhost:8080/"
        },
        "id": "ITfD5ZtUsfYq",
        "outputId": "3cde03cb-c0ec-4ab6-8963-f682c902daf9"
      },
      "source": [
        "\n",
        "TK= np.mean((np.absolute(y_true_test-y_pred_test)/y_true_test)*100)\n",
        "TK"
      ],
      "execution_count": 38,
      "outputs": [
        {
          "output_type": "execute_result",
          "data": {
            "text/plain": [
              "1.680926974689241"
            ]
          },
          "metadata": {},
          "execution_count": 38
        }
      ]
    },
    {
      "cell_type": "code",
      "metadata": {
        "colab": {
          "base_uri": "https://localhost:8080/",
          "height": 298
        },
        "id": "2TfQNVW6sfUD",
        "outputId": "d1c71e05-4aa0-4cdb-d63f-36886226324b"
      },
      "source": [
        "\n",
        "plt.plot(y_true_test, color = 'blue', label = 'Actual Stock Price')\n",
        "plt.plot(y_pred_test, color = 'red', label = 'Predicted Stock Price')\n",
        "plt.title('AUTr open stock price prediction')\n",
        "plt.xlabel('Time')\n",
        "plt.ylabel('Open Price')\n",
        "plt.legend()\n",
        "plt.show()"
      ],
      "execution_count": 39,
      "outputs": [
        {
          "output_type": "display_data",
          "data": {
            "image/png": "[encoded data removed]",
            "text/plain": [
              "<Figure size 432x288 with 1 Axes>"
            ]
          },
          "metadata": {
            "needs_background": "light"
          }
        }
      ]
    }
  ]
}